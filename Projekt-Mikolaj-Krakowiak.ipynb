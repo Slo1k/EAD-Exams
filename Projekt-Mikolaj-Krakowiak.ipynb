{
 "cells": [
  {
   "cell_type": "markdown",
   "id": "46606c79",
   "metadata": {},
   "source": [
    "# Zadanie Domowe\n",
    "\n",
    "Mikołaj Krakowiak\n",
    "Nr indeksu: 148076\n",
    "Grupa laboratoryjna: i5.2"
   ]
  },
  {
   "cell_type": "markdown",
   "id": "45e78aed",
   "metadata": {},
   "source": [
    "## Zbiór danych\n",
    "Zestaw danych obejmuje wyniki trzech egzaminów oraz różnorodne czynniki osobiste, społeczne i ekonomiczne, które mają mogą mieć na nie wpływ.\n",
    "\n",
    "Zbiór złozony jest z ośmiu kolumn. Wyróżniamy następujące kolumny:\n",
    "\n",
    "*  gender - płeć studenta \n",
    "*  race.ethnicity - rasa studenta (A, B lub C)\n",
    "*  parental.level.of.education - wykształcenie rodziców\n",
    "\n",
    "*  lunch - poranne śniadanie\n",
    "*  test.preparation.course - ukończenie testu przygotowawczego\n",
    "*  math.score - wynik testu z matematyki\n",
    "*  reading.score - wynik testu z czytania ze zrozumieniem\n",
    "*  writing.score - wyniki testu z pisania"
   ]
  },
  {
   "cell_type": "code",
   "execution_count": 77,
   "id": "96cb9819",
   "metadata": {},
   "outputs": [],
   "source": [
    "data <- read.csv(\"exams.csv\", sep=\",\")"
   ]
  },
  {
   "cell_type": "markdown",
   "id": "32346378",
   "metadata": {},
   "source": [
    "## Analiza eksploracyjna\n",
    "### Początkowe 10 wierszy danych:\n"
   ]
  },
  {
   "cell_type": "code",
   "execution_count": 78,
   "id": "bd52b4af",
   "metadata": {},
   "outputs": [
    {
     "data": {
      "text/html": [
       "<table>\n",
       "<thead><tr><th scope=col>gender</th><th scope=col>race.ethnicity</th><th scope=col>parental.level.of.education</th><th scope=col>lunch</th><th scope=col>test.preparation.course</th><th scope=col>math.score</th><th scope=col>reading.score</th><th scope=col>writing.score</th></tr></thead>\n",
       "<tbody>\n",
       "\t<tr><td>male              </td><td>group C           </td><td>some high school  </td><td>standard          </td><td>none              </td><td>64                </td><td> 65               </td><td>53                </td></tr>\n",
       "\t<tr><td>male              </td><td>group A           </td><td>some college      </td><td>standard          </td><td>none              </td><td>71                </td><td> 64               </td><td>61                </td></tr>\n",
       "\t<tr><td>male              </td><td>group C           </td><td>some high school  </td><td>standard          </td><td>none              </td><td>53                </td><td> 53               </td><td>45                </td></tr>\n",
       "\t<tr><td>female            </td><td>group C           </td><td>associate's degree</td><td>standard          </td><td>none              </td><td>95                </td><td>100               </td><td>97                </td></tr>\n",
       "\t<tr><td>female            </td><td>group A           </td><td>bachelor's degree </td><td>free/reduced      </td><td>completed         </td><td>72                </td><td> 91               </td><td>88                </td></tr>\n",
       "\t<tr><td>female            </td><td>group C           </td><td>bachelor's degree </td><td>free/reduced      </td><td>none              </td><td>75                </td><td> 78               </td><td>77                </td></tr>\n",
       "\t<tr><td>male              </td><td>group D           </td><td>some college      </td><td>free/reduced      </td><td>completed         </td><td>72                </td><td> 76               </td><td>74                </td></tr>\n",
       "\t<tr><td>female            </td><td>group C           </td><td>high school       </td><td>free/reduced      </td><td>none              </td><td>64                </td><td> 70               </td><td>69                </td></tr>\n",
       "\t<tr><td>male              </td><td>group D           </td><td>some college      </td><td>standard          </td><td>none              </td><td>60                </td><td> 65               </td><td>57                </td></tr>\n",
       "\t<tr><td>male              </td><td>group C           </td><td>bachelor's degree </td><td>standard          </td><td>completed         </td><td>66                </td><td> 65               </td><td>64                </td></tr>\n",
       "</tbody>\n",
       "</table>\n"
      ],
      "text/latex": [
       "\\begin{tabular}{r|llllllll}\n",
       " gender & race.ethnicity & parental.level.of.education & lunch & test.preparation.course & math.score & reading.score & writing.score\\\\\n",
       "\\hline\n",
       "\t male               & group C            & some high school   & standard           & none               & 64                 &  65                & 53                \\\\\n",
       "\t male               & group A            & some college       & standard           & none               & 71                 &  64                & 61                \\\\\n",
       "\t male               & group C            & some high school   & standard           & none               & 53                 &  53                & 45                \\\\\n",
       "\t female             & group C            & associate's degree & standard           & none               & 95                 & 100                & 97                \\\\\n",
       "\t female             & group A            & bachelor's degree  & free/reduced       & completed          & 72                 &  91                & 88                \\\\\n",
       "\t female             & group C            & bachelor's degree  & free/reduced       & none               & 75                 &  78                & 77                \\\\\n",
       "\t male               & group D            & some college       & free/reduced       & completed          & 72                 &  76                & 74                \\\\\n",
       "\t female             & group C            & high school        & free/reduced       & none               & 64                 &  70                & 69                \\\\\n",
       "\t male               & group D            & some college       & standard           & none               & 60                 &  65                & 57                \\\\\n",
       "\t male               & group C            & bachelor's degree  & standard           & completed          & 66                 &  65                & 64                \\\\\n",
       "\\end{tabular}\n"
      ],
      "text/markdown": [
       "\n",
       "| gender | race.ethnicity | parental.level.of.education | lunch | test.preparation.course | math.score | reading.score | writing.score |\n",
       "|---|---|---|---|---|---|---|---|\n",
       "| male               | group C            | some high school   | standard           | none               | 64                 |  65                | 53                 |\n",
       "| male               | group A            | some college       | standard           | none               | 71                 |  64                | 61                 |\n",
       "| male               | group C            | some high school   | standard           | none               | 53                 |  53                | 45                 |\n",
       "| female             | group C            | associate's degree | standard           | none               | 95                 | 100                | 97                 |\n",
       "| female             | group A            | bachelor's degree  | free/reduced       | completed          | 72                 |  91                | 88                 |\n",
       "| female             | group C            | bachelor's degree  | free/reduced       | none               | 75                 |  78                | 77                 |\n",
       "| male               | group D            | some college       | free/reduced       | completed          | 72                 |  76                | 74                 |\n",
       "| female             | group C            | high school        | free/reduced       | none               | 64                 |  70                | 69                 |\n",
       "| male               | group D            | some college       | standard           | none               | 60                 |  65                | 57                 |\n",
       "| male               | group C            | bachelor's degree  | standard           | completed          | 66                 |  65                | 64                 |\n",
       "\n"
      ],
      "text/plain": [
       "   gender race.ethnicity parental.level.of.education lunch       \n",
       "1  male   group C        some high school            standard    \n",
       "2  male   group A        some college                standard    \n",
       "3  male   group C        some high school            standard    \n",
       "4  female group C        associate's degree          standard    \n",
       "5  female group A        bachelor's degree           free/reduced\n",
       "6  female group C        bachelor's degree           free/reduced\n",
       "7  male   group D        some college                free/reduced\n",
       "8  female group C        high school                 free/reduced\n",
       "9  male   group D        some college                standard    \n",
       "10 male   group C        bachelor's degree           standard    \n",
       "   test.preparation.course math.score reading.score writing.score\n",
       "1  none                    64          65           53           \n",
       "2  none                    71          64           61           \n",
       "3  none                    53          53           45           \n",
       "4  none                    95         100           97           \n",
       "5  completed               72          91           88           \n",
       "6  none                    75          78           77           \n",
       "7  completed               72          76           74           \n",
       "8  none                    64          70           69           \n",
       "9  none                    60          65           57           \n",
       "10 completed               66          65           64           "
      ]
     },
     "metadata": {},
     "output_type": "display_data"
    }
   ],
   "source": [
    "head(data, 10)"
   ]
  },
  {
   "cell_type": "code",
   "execution_count": 79,
   "id": "0cd58b1e",
   "metadata": {},
   "outputs": [
    {
     "name": "stderr",
     "output_type": "stream",
     "text": [
      "Liczba obserwacji: 1000\n",
      "Liczba cech: 8\n"
     ]
    }
   ],
   "source": [
    "message(\"Liczba obserwacji: \", nrow(data))\n",
    "message(\"Liczba cech: \", ncol(data))"
   ]
  },
  {
   "cell_type": "markdown",
   "id": "b000fe86",
   "metadata": {},
   "source": [
    "### Statystyki opisowe wyników poszczególnych egzaminów:"
   ]
  },
  {
   "cell_type": "code",
   "execution_count": 80,
   "id": "53bb581d",
   "metadata": {},
   "outputs": [
    {
     "name": "stderr",
     "output_type": "stream",
     "text": [
      "Statystki opisowe wyników testów z matemtyki:\n"
     ]
    },
    {
     "data": {
      "text/plain": [
       "   Min. 1st Qu.  Median    Mean 3rd Qu.    Max. \n",
       "  15.00   57.00   68.00   67.18   78.00  100.00 "
      ]
     },
     "metadata": {},
     "output_type": "display_data"
    },
    {
     "name": "stderr",
     "output_type": "stream",
     "text": [
      "Statystyki opisowe wyników testów z czytania ze zrozumieniem:\n"
     ]
    },
    {
     "data": {
      "text/plain": [
       "   Min. 1st Qu.  Median    Mean 3rd Qu.    Max. \n",
       "  23.00   60.00   70.00   70.09   80.00  100.00 "
      ]
     },
     "metadata": {},
     "output_type": "display_data"
    },
    {
     "name": "stderr",
     "output_type": "stream",
     "text": [
      "Statystyki opisowe wyników testów z pisania:\n"
     ]
    },
    {
     "data": {
      "text/plain": [
       "   Min. 1st Qu.  Median    Mean 3rd Qu.    Max. \n",
       "  16.00   59.00   69.00   69.06   79.00  100.00 "
      ]
     },
     "metadata": {},
     "output_type": "display_data"
    }
   ],
   "source": [
    "matematyka <- data$math.score\n",
    "czytanie <- data$reading.score\n",
    "pisanie <- data$writing.score\n",
    "\n",
    "message(\"Statystki opisowe wyników testów z matemtyki:\") \n",
    "summary(matematyka)\n",
    "message(\"Statystyki opisowe wyników testów z czytania ze zrozumieniem:\") \n",
    "summary(czytanie)\n",
    "message(\"Statystyki opisowe wyników testów z pisania:\")\n",
    "summary(pisanie)"
   ]
  },
  {
   "cell_type": "markdown",
   "id": "881cd985",
   "metadata": {},
   "source": [
    "### Histogramy wników z poszczególnych egzaminów"
   ]
  },
  {
   "cell_type": "code",
   "execution_count": 81,
   "id": "db0d8fe2",
   "metadata": {},
   "outputs": [
    {
     "name": "stderr",
     "output_type": "stream",
     "text": [
      "Szereg rozdzielczy przedstawiający wyniki testów z matematyki:\n"
     ]
    },
    {
     "data": {
      "text/plain": [
       "\n",
       "  [15,20.5) [20.5,26.1) [26.1,31.6) [31.6,37.2) [37.2,42.7) [42.7,48.3) \n",
       "          1           5           5          14          32          43 \n",
       "[48.3,53.8) [53.8,59.4) [59.4,64.9) [64.9,70.4)   [70.4,76)   [76,81.5) \n",
       "         89         115         121         144         132         122 \n",
       "[81.5,87.1) [87.1,92.6) [92.6,98.2) \n",
       "         83          54          30 "
      ]
     },
     "metadata": {},
     "output_type": "display_data"
    },
    {
     "name": "stderr",
     "output_type": "stream",
     "text": [
      "Szereg rozdzielczy przedstawiający wyniki testów z czytania ze zrozumieniem:\n"
     ]
    },
    {
     "data": {
      "text/plain": [
       "\n",
       "  [23,28.3) [28.3,33.6) [33.6,38.8) [38.8,44.1) [44.1,49.4) [49.4,54.7) \n",
       "          4           3           9          28          35          62 \n",
       "  [54.7,60)   [60,65.2) [65.2,70.5) [70.5,75.8) [75.8,81.1) [81.1,86.4) \n",
       "        101         127         140         142         121          94 \n",
       "[86.4,91.6) [91.6,96.9) \n",
       "         63          35 "
      ]
     },
     "metadata": {},
     "output_type": "display_data"
    },
    {
     "name": "stderr",
     "output_type": "stream",
     "text": [
      "Szereg rozdzielczy przedstawiający wyniki testów z pisania:\n"
     ]
    },
    {
     "data": {
      "text/plain": [
       "\n",
       "  [16,21.3) [21.3,26.6) [26.6,31.8) [31.8,37.1) [37.1,42.4) [42.4,47.7) \n",
       "          2           1           6          14          21          41 \n",
       "  [47.7,53)   [53,58.2) [58.2,63.5) [63.5,68.8) [68.8,74.1) [74.1,79.4) \n",
       "         47         103         122         122         154         118 \n",
       "[79.4,84.6) [84.6,89.9) [89.9,95.2) \n",
       "         82          77          50 "
      ]
     },
     "metadata": {},
     "output_type": "display_data"
    },
    {
     "data": {
      "image/png": "[encoded data removed]",
      "text/plain": [
       "Plot with title \"Testy z pisania\""
      ]
     },
     "metadata": {},
     "output_type": "display_data"
    }
   ],
   "source": [
    "layout(matrix(c(1,2,3), 1, 3, byrow=TRUE))\n",
    "\n",
    "mat_rozstep <- max(matematyka) - min(matematyka)\n",
    "mat_k <- mat_rozstep / (IQR(matematyka) * 2.64 * length(matematyka)^(-1/3))\n",
    "mat_szer <- mat_rozstep / mat_k\n",
    "\n",
    "mat_breaks <- seq(min(matematyka), max(matematyka), mat_szer)\n",
    "\n",
    "options(repr.plot.width = 15, repr.plot.height = 10)\n",
    "mathist <- hist(matematyka, col=\"red\", main=\"Testy z matematyki\", xlab=\"Wynik\", ylab=\"Liczba osób\",breaks=mat_k)\n",
    "\n",
    "message(\"Szereg rozdzielczy przedstawiający wyniki testów z matematyki:\")\n",
    "table(cut(matematyka, mat_breaks, right = FALSE))\n",
    "\n",
    "\n",
    "\n",
    "czyt_rozstep <- max(czytanie) - min(czytanie)\n",
    "czyt_k <- czyt_rozstep / (IQR(czytanie) * 2.64 * length(czytanie)^(-1/3))\n",
    "czyt_szer <- czyt_rozstep / czyt_k\n",
    "\n",
    "czyt_breaks <- seq(min(czytanie), max(czytanie), czyt_szer)\n",
    "\n",
    "options(repr.plot.width = 15, repr.plot.height = 10)\n",
    "czythist <- hist(czytanie, col=\"blue\", main=\"Testy z czytania ze zrozumieniem\", xlab=\"Wynik\", ylab=\"Liczba osób\", breaks=czyt_k)\n",
    "\n",
    "message(\"Szereg rozdzielczy przedstawiający wyniki testów z czytania ze zrozumieniem:\")\n",
    "table(cut(czytanie, czyt_breaks, right = FALSE))\n",
    "\n",
    "\n",
    "\n",
    "pis_rozstep <- max(pisanie) - min(pisanie)\n",
    "pis_k <- pis_rozstep / (IQR(pisanie) * 2.64 * length(pisanie)^(-1/3))\n",
    "pis_szer <- pis_rozstep / pis_k\n",
    "\n",
    "pis_breaks <- seq(min(pisanie), max(pisanie), pis_szer)\n",
    "\n",
    "options(repr.plot.width = 15, repr.plot.height = 10)\n",
    "pishist <- hist(pisanie, col=\"green\", main=\"Testy z pisania\", xlab=\"Wynik\", ylab=\"Liczba osób\", breaks=pis_k)\n",
    "\n",
    "message(\"Szereg rozdzielczy przedstawiający wyniki testów z pisania:\")\n",
    "table(cut(pisanie, pis_breaks, right = FALSE))\n"
   ]
  },
  {
   "cell_type": "markdown",
   "id": "a8104352",
   "metadata": {},
   "source": [
    "Rozkłady są w przybliżeniu rozkładami normalnymi. Wyniki z testów czytania ze zrozumieniem i testów z pisania są do siebie dosyć zbliżone, może to być spowodowane humanistycznym aspektem obu przedmiotów. W kolejnych punktach postaram się sprawdzić czy istnieję zależność pomiędzy wnikami wymieniony powyżej dwóch testów."
   ]
  },
  {
   "cell_type": "markdown",
   "id": "c816e6d0",
   "metadata": {},
   "source": [
    "## Testy\n",
    "### Wyznacznie korelacji oraz kowariancji oraz testowanie istotności statystycznej korelacji\n",
    "\n",
    "Zbadajmy czy za pomocą próby 1000 studentów (rozmiar analizowanych danych) możemy podjąć decyzję o istotności współczynnika korelacji wobec całej populacji studentów.\n",
    "\n",
    "Hipoteza zerowa H0: p=0\n",
    "\n",
    "Hipoteza alternatywna H1: p1 != 0\n",
    "\n",
    "Zastosujemy statystykę testową t."
   ]
  },
  {
   "cell_type": "code",
   "execution_count": 91,
   "id": "4962d6cc",
   "metadata": {},
   "outputs": [
    {
     "name": "stderr",
     "output_type": "stream",
     "text": [
      "Wartość kowariancji: 210.754852852853\n",
      "Wartość korelacji: 0.955432846733313\n"
     ]
    },
    {
     "data": {
      "image/png": "[encoded data removed]",
      "text/plain": [
       "Plot with title \"Wykres korelacyjny rozrzutu wyników z obu testów\""
      ]
     },
     "metadata": {},
     "output_type": "display_data"
    }
   ],
   "source": [
    "sred_czyt <- mean(czytanie)\n",
    "sred_pis <- mean(pisanie)\n",
    "\n",
    "my_cov <- sum((czytanie - sred_czyt)*(pisanie-sred_pis)) / (length(czytanie)-1)\n",
    "message(\"Wartość kowariancji: \", my_cov)\n",
    "\n",
    "my_cor <- my_cov / (sd(czytanie)*sd(pisanie))\n",
    "message(\"Wartość korelacji: \", my_cor)\n",
    "\n",
    "plot(czytanie~pisanie, ylab=\"Wyniki testów z czytania ze zrozumieniem\", xlab=\"Wyniki testów z pisania\", main=\"Wykres korelacyjny rozrzutu wyników z obu testów\")\n",
    "abline(v = mean(czytanie), col=\"red\", lty=3)\n",
    "abline(h = mean(pisanie), col=\"green\", lty=3)"
   ]
  },
  {
   "cell_type": "markdown",
   "id": "6e2e6c76",
   "metadata": {},
   "source": [
    "Aby zweryfikować hipotezę mówiącą, że współczynnik korelacji jest niezerowy (test dwustronny), obliczam wartość statystyki $t=\\frac{r}{\\sqrt{1-r^2}}\\cdot \\sqrt{n-2}$, gdzie $r$ to współczynnik korelacji dla próby."
   ]
  },
  {
   "cell_type": "code",
   "execution_count": 83,
   "id": "3c668bae",
   "metadata": {},
   "outputs": [
    {
     "name": "stderr",
     "output_type": "stream",
     "text": [
      "Wartość statystki t: 102.243695491021\n"
     ]
    }
   ],
   "source": [
    "t <- my_cor/sqrt(1-my_cor^2)*sqrt(length(czytanie)-2)\n",
    "message(\"Wartość statystki t: \", t)"
   ]
  },
  {
   "cell_type": "markdown",
   "id": "d9d868ea",
   "metadata": {},
   "source": [
    "Obliczam p-wartość dla wyznaczonej statystyki pamiętając, że mam do czynienia z testem dwustronnym. Zakładam poziom istotności równy 0.05"
   ]
  },
  {
   "cell_type": "code",
   "execution_count": 84,
   "id": "6897dc47",
   "metadata": {},
   "outputs": [
    {
     "name": "stderr",
     "output_type": "stream",
     "text": [
      "Wartość p-value: 0\n"
     ]
    }
   ],
   "source": [
    "pval <- pt(t, lower.tail = F, df= length(czytanie) - 2)*2\n",
    "message(\"Wartość p-value: \", pval)"
   ]
  },
  {
   "cell_type": "markdown",
   "id": "53f50869",
   "metadata": {},
   "source": [
    "Wartość p_value jest mniejsza od zaproponowanego przeze mnie poziomu istotności alfa = 0.05. Możemy więc <b>odrzucić hipotezę zerową H0</b> na rzecz hipotezy alterantywnej więc współczynnik korelacji jest istotny statystycznie. \n",
    "\n",
    "Na wykresie wyżej możemy zauważyć że istnieję zależność pomiędzy wynikami z obu przedstawionych testów. Widzimy że współzależnośc zmiennych jest pozytywana (dodatnia). Współczynnik korelacji dla powyższych danych wyniosł <b>r = 0.955432846733313</b> co jest równoznaczne z tym że możemy uznać korelację za prawie pełną. Spróbujmy więc zbudować model regresji liniowej który w przyszłości pozwoli nam przewidzieć wyniki testów z pisania przy pomocy wyników z testów czytania ze zrozumieniem."
   ]
  },
  {
   "cell_type": "markdown",
   "id": "f0206720",
   "metadata": {},
   "source": [
    "### Regresja liniowa"
   ]
  },
  {
   "cell_type": "code",
   "execution_count": 92,
   "id": "7a0015a0",
   "metadata": {},
   "outputs": [
    {
     "data": {
      "text/plain": [
       "\n",
       "Call:\n",
       "lm(formula = czytanie ~ pisanie)\n",
       "\n",
       "Residuals:\n",
       "     Min       1Q   Median       3Q      Max \n",
       "-13.5111  -2.9147  -0.0361   2.8375  15.7046 \n",
       "\n",
       "Coefficients:\n",
       "            Estimate Std. Error t value Pr(>|t|)    \n",
       "(Intercept) 7.047033   0.631290   11.16   <2e-16 ***\n",
       "pisanie     0.912854   0.008928  102.24   <2e-16 ***\n",
       "---\n",
       "Signif. codes:  0 '***' 0.001 '**' 0.01 '*' 0.05 '.' 0.1 ' ' 1\n",
       "\n",
       "Residual standard error: 4.288 on 998 degrees of freedom\n",
       "Multiple R-squared:  0.9129,\tAdjusted R-squared:  0.9128 \n",
       "F-statistic: 1.045e+04 on 1 and 998 DF,  p-value: < 2.2e-16\n"
      ]
     },
     "metadata": {},
     "output_type": "display_data"
    },
    {
     "data": {
      "image/png": "[encoded data removed]",
      "text/plain": [
       "Plot with title \"Regresja liniowa\""
      ]
     },
     "metadata": {},
     "output_type": "display_data"
    }
   ],
   "source": [
    "model2 <- lm(czytanie~pisanie)\n",
    "summary(model2)\n",
    "\n",
    "plot(czytanie ~ pisanie, ylab=\"Wyniki testów z czytania ze zrozumieniem\", xlab=\"Wyniki testów z pisania\", main=\"Regresja liniowa\")\n",
    "abline(model2, col='red', lty=3)"
   ]
  },
  {
   "cell_type": "markdown",
   "id": "f95748d9",
   "metadata": {},
   "source": [
    "## Podsumowanie"
   ]
  },
  {
   "cell_type": "markdown",
   "id": "b4752c8a",
   "metadata": {},
   "source": [
    "Przeprowadzony test udowodnił że istnieję silna zależność pomiędzy wynikami testów z przedmiotów humanistycznych jednak nie powinno się na tym poprzestawać. W celu lepszego zrozumienia zbioru danych wymagane byłoby przeprowadzenie badań kolejnych czynników które mogłyby mieć wpływ na wyniki egzaminów (przykładowo uczestnictwo w kursach przygotowawczych prawdopodobnie ma znaczący wpływ na wyniki), w tym celu należałoby wykonać przykładowo regresję wielu zmiennych (wieloraką)."
   ]
  },
  {
   "cell_type": "markdown",
   "id": "b8d90202",
   "metadata": {},
   "source": [
    "Opracował MIkołaj Krakowiak 148076"
   ]
  }
 ],
 "metadata": {
  "kernelspec": {
   "display_name": "R",
   "language": "R",
   "name": "ir"
  },
  "language_info": {
   "codemirror_mode": "r",
   "file_extension": ".r",
   "mimetype": "text/x-r-source",
   "name": "R",
   "pygments_lexer": "r",
   "version": "3.6.1"
  }
 },
 "nbformat": 4,
 "nbformat_minor": 5
}
